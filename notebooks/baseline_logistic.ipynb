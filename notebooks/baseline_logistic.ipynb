{
 "cells": [
  {
   "cell_type": "markdown",
   "metadata": {},
   "source": [
    "# Baseline: Logistic Regression for Synthetic Failure Prediction\n",
    "\n",
    "This notebook mirrors `src/quickstart.py` with a simple, reproducible baseline.\n",
    "- Generates synthetic features (age, cycles, temp)\n",
    "- Trains LogisticRegression\n",
    "- Prints ROC-AUC and a naive maintenance flag using p>=0.5\n"
    ]
  },
  {
   "cell_type": "code",
   "execution_count": null,
   "metadata": {},
   "outputs": [],
   "source": [
    "import numpy as np\n",
    "import pandas as pd\n",
    "from sklearn.linear_model import LogisticRegression\n",
    "from sklearn.metrics import roc_auc_score, roc_curve\n",
    "from sklearn.model_selection import train_test_split\n",
    "\n",
    "def make_synth(n=2000, seed=0):\n",
    "    rng = np.random.default_rng(seed)\n",
    "    age = rng.uniform(0, 10, n)\n",
    "    cycles = rng.uniform(100, 2000, n)\n",
    "    temp = rng.uniform(20, 100, n)\n",
    "    X = np.column_stack([age, cycles, temp])\n",
    "    w = np.array([0.6, 0.002, 0.03])\n",
    "    logit = X @ w - 3.5\n",
    "    p = 1 / (1 + np.exp(-logit))\n",
    "    y = rng.binomial(1, p)\n",
    "    return X, y\n",
    "\n",
    "X, y = make_synth()\n",
    "X_tr, X_te, y_tr, y_te = train_test_split(X, y, test_size=0.3, random_state=0, stratify=y)\n",
    "clf = LogisticRegression(max_iter=1000)\n",
    "clf.fit(X_tr, y_tr)\n",
    "proba = clf.predict_proba(X_te)[:, 1]\n",
    "auc = roc_auc_score(y_te, proba)\n",
    "print(f\"ROC-AUC: {auc:.3f}\")\n",
    "\n",
    "# naive policy\n",
    "threshold = 0.5\n",
    "to_maintain = int((proba >= threshold).sum())\n",
    "print(f\"Units flagged for maintenance: {to_maintain}/{len(proba)} at threshold={threshold}\")\n"
    ]
  }
 ],
 "metadata": {
  "kernelspec": {
   "display_name": "Python 3",
   "language": "python",
   "name": "python3"
  },
  "language_info": {
   "name": "python",
   "pygments_lexer": "ipython3"
  }
 },
 "nbformat": 4,
 "nbformat_minor": 5
}

docs(notebook): add baseline_logistic.ipynb with ROC-AUC + threshold flag

